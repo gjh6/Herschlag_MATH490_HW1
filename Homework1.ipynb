{
 "cells": [
  {
   "cell_type": "markdown",
   "metadata": {},
   "source": [
    "# d-Dimensional Spheres; Volumes and Sub-manifolds"
   ]
  },
  {
   "cell_type": "markdown",
   "metadata": {},
   "source": [
    "## 1. Volume of a d-Dimensional sphere\n",
    "\n",
    "In a python module, create a function called `sampleInsideUnitSphere` that \n",
    "\n",
    "1. Takes inputs:\n",
    "  * a dimension, `dim`\n",
    "  * a random number generato, `rng`\n",
    "  * a number of samples, `nSamples`, \n",
    "  * bounds, `lbnd`, `ubnd`\n",
    "2. Randomly generates `nSamples` points in $[\\text{lbnd},\\text{ubnd}]^{\\text{dim}}$,\n",
    "3. Outputs the number of sampled points that are inside the d-dimensional unit sphere.\n",
    "\n",
    "Required sub-routines:\n",
    "\n",
    "1. `inUnitSphere` with inputs x (a d-dimensional point); outputs true if x is inside the d-dimensional unit sphere. \n",
    "\n",
    "## Problems\n",
    "With the above code\n",
    "\n",
    "1. Estimate and plot the volume of the unit sphere for $1<d<11$. Give some explanation of how you chose the number of samples you used.\n",
    "2. Estimate the uncertainty of your answer to the above plot and add error bars to your plot.\n",
    "3. With a fixed number of samples, how does the uncertainty in your estimate depend on the dimension? \n",
    "4. What happens to the volume of a sphere as $d\\rightarrow \\infty$.  Can you develope some explanations (either formal or informal) as to why this occurs?"
   ]
  },
  {
   "cell_type": "code",
   "execution_count": 30,
   "metadata": {},
   "outputs": [],
   "source": [
    "import importlib\n",
    "import numpy as np\n",
    "import os\n",
    "import random\n",
    "import sys\n",
    " \n",
    "sys.path.append(os.path.join(\".\",\"lib\"))\n",
    "\n",
    "import sphereSampling as sphere # Your module in lib"
   ]
  },
  {
   "cell_type": "code",
   "execution_count": 57,
   "metadata": {
    "scrolled": true
   },
   "outputs": [],
   "source": [
    "importlib.reload(sphere) # needed if you make any changes to the sphere file\n",
    "\n",
    "random.seed(1321318293)\n",
    "nSamples = 10000\n",
    "\n",
    "dimToVol = {}\n",
    "for d in range(2, 15):\n",
    "    dat = [sphere.sampleInsideUnitSphere(d, random, nSamples, [0, 1]) for _ in range(100)]\n",
    "    vol = #?\n",
    "    dimToVol[d] = vol"
   ]
  },
  {
   "cell_type": "code",
   "execution_count": 1,
   "metadata": {},
   "outputs": [],
   "source": [
    "# some sample code for visualization\n",
    "import pandas as pd\n",
    "import plotly.express as px\n",
    "\n",
    "df = pd.DataFrame({\"Dimension\" : list(dimToVol.keys()), \n",
    "                   \"Volume\" : list(dimToVol.values())})\n",
    "px.line(df, x=\"Dimension\", y=\"Volume\")"
   ]
  },
  {
   "cell_type": "markdown",
   "metadata": {},
   "source": [
    "## 2. Surface proximity to a d-dimensional sphere"
   ]
  },
  {
   "cell_type": "markdown",
   "metadata": {},
   "source": [
    "In this section you will examine the random proximity to the surface of a randomly chosen point in a $d$ dimensional unit sphere.\n",
    "\n",
    "## Problems\n",
    "\n",
    "1. Using elements from the code you developed above, write a function that returns $N$ uniformly sampled random points from within a $d$ dimensional unit sphere.\n",
    "2. For $1<d<11$, estimate the probability that a uniformly random point is a distance of 0.1 from the surface of the sphere (i.e. that the radius of the point is larger than 0.9)\n",
    "3. Estimate the uncertainty of your answer from the previous part.\n",
    "4. From your analysis above, make a conjecture on the value of $\\lim_{d\\rightarrow \\infty} P(||X||_2>1-\\epsilon)$ where $X$ is a uniform random point within the unit sphere; prove your conjecture.\n"
   ]
  },
  {
   "cell_type": "code",
   "execution_count": 76,
   "metadata": {},
   "outputs": [],
   "source": [
    "importlib.reload(sphere)\n",
    "\n",
    "nSamples = 1000000\n",
    "\n",
    "points = sphere.samplePointsFromUnitSphere(dim = 3, nSamples)"
   ]
  }
 ],
 "metadata": {
  "kernelspec": {
   "display_name": "Python 3",
   "language": "python",
   "name": "python3"
  },
  "language_info": {
   "codemirror_mode": {
    "name": "ipython",
    "version": 3
   },
   "file_extension": ".py",
   "mimetype": "text/x-python",
   "name": "python",
   "nbconvert_exporter": "python",
   "pygments_lexer": "ipython3",
   "version": "3.7.3"
  }
 },
 "nbformat": 4,
 "nbformat_minor": 2
}
